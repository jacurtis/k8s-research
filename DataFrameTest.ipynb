{
 "cells": [
  {
   "cell_type": "markdown",
   "id": "4ddf01ac-127f-4588-ba54-7e2196c636d4",
   "metadata": {},
   "source": [
    "# Creating DataFrames in Loops\n",
    "\n",
    "I need to be able to loop through individual records and add it to a Pandas DataFrame\n"
   ]
  },
  {
   "cell_type": "code",
   "execution_count": 2,
   "id": "5dae7a03-da55-4173-88a6-e70e628fd87b",
   "metadata": {
    "ExecuteTime": {
     "end_time": "2023-07-24T01:19:39.991110Z",
     "start_time": "2023-07-24T01:19:39.533742Z"
    }
   },
   "outputs": [],
   "source": [
    "import pandas as pd"
   ]
  },
  {
   "cell_type": "code",
   "execution_count": 3,
   "id": "73fa79df-92f7-47e4-8ceb-98b69e67d568",
   "metadata": {
    "ExecuteTime": {
     "end_time": "2023-07-24T01:19:41.466702Z",
     "start_time": "2023-07-24T01:19:41.457511Z"
    }
   },
   "outputs": [],
   "source": [
    "df1 = pd.DataFrame()"
   ]
  },
  {
   "cell_type": "code",
   "execution_count": 12,
   "id": "7b5ce121-7e95-4c80-8f3a-18d899f76149",
   "metadata": {
    "ExecuteTime": {
     "end_time": "2023-07-27T04:24:29.622700Z",
     "start_time": "2023-07-27T04:24:29.619084Z"
    }
   },
   "outputs": [
    {
     "data": {
      "text/plain": "           QuestionId                 Question  Answers  \\\n0               12345  Bad kubernetes question      1.0   \nQuestionId        NaN                      NaN      NaN   \nQuestion          NaN                      NaN      NaN   \nAnswers           NaN                      NaN      NaN   \n\n                                  0  \n0                               NaN  \nQuestionId                    12345  \nQuestion    Is Kubernetes any good?  \nAnswers                           4  ",
      "text/html": "<div>\n<style scoped>\n    .dataframe tbody tr th:only-of-type {\n        vertical-align: middle;\n    }\n\n    .dataframe tbody tr th {\n        vertical-align: top;\n    }\n\n    .dataframe thead th {\n        text-align: right;\n    }\n</style>\n<table border=\"1\" class=\"dataframe\">\n  <thead>\n    <tr style=\"text-align: right;\">\n      <th></th>\n      <th>QuestionId</th>\n      <th>Question</th>\n      <th>Answers</th>\n      <th>0</th>\n    </tr>\n  </thead>\n  <tbody>\n    <tr>\n      <th>0</th>\n      <td>12345</td>\n      <td>Bad kubernetes question</td>\n      <td>1.0</td>\n      <td>NaN</td>\n    </tr>\n    <tr>\n      <th>QuestionId</th>\n      <td>NaN</td>\n      <td>NaN</td>\n      <td>NaN</td>\n      <td>12345</td>\n    </tr>\n    <tr>\n      <th>Question</th>\n      <td>NaN</td>\n      <td>NaN</td>\n      <td>NaN</td>\n      <td>Is Kubernetes any good?</td>\n    </tr>\n    <tr>\n      <th>Answers</th>\n      <td>NaN</td>\n      <td>NaN</td>\n      <td>NaN</td>\n      <td>4</td>\n    </tr>\n  </tbody>\n</table>\n</div>"
     },
     "execution_count": 12,
     "metadata": {},
     "output_type": "execute_result"
    }
   ],
   "source": [
    "data1={\"QuestionId\": \"12345\", \"Question\": \"Is Kubernetes any good?\", \"Answers\": 4}\n",
    "data2={\"QuestionId\": \"23456\", \"Question\": \"Kubernetes Security Help\", \"Answers\": 2}\n",
    "data3={\"QuestionId\": \"34567\", \"Question\": \"Port Allocation not working\", \"Answers\": 1}\n",
    "newseries = pd.Series({\"QuestionId\": \"12345\", \"Question\": \"Is Kubernetes any good?\", \"Answers\": 4})\n",
    "df2 = pd.DataFrame(newseries)\n",
    "df = pd.concat([df1, df2])\n",
    "df.head()"
   ]
  },
  {
   "cell_type": "markdown",
   "id": "572b2d88-4d8d-4352-b563-deaf6a0f30b0",
   "metadata": {},
   "source": [
    "Note: When using `pandas.Concat()`   \n",
    "_It is not recommended to build DataFrames by adding single rows in a for loop. Build a list of rows and make a DataFrame in a single concat._"
   ]
  },
  {
   "cell_type": "markdown",
   "id": "7aa4ff8e-c972-4fa0-a7ea-f16e66d5bdbe",
   "metadata": {},
   "source": [
    "I think the best technique is to add to a series and concat at the end.\n",
    "\n",
    "There is a guide for managing DataFrames for merging and adding rows to DataFrames.  \n",
    "https://pandas.pydata.org/pandas-docs/stable/user_guide/merging.html"
   ]
  },
  {
   "cell_type": "code",
   "execution_count": 10,
   "id": "ff745ec4-e9aa-4c9a-b7ff-6a5a5c7816a9",
   "metadata": {
    "ExecuteTime": {
     "end_time": "2023-07-27T04:23:03.897091Z",
     "start_time": "2023-07-27T04:23:03.811141Z"
    }
   },
   "outputs": [
    {
     "name": "stdout",
     "output_type": "stream",
     "text": [
      "An array of rows:\n",
      "[{'QuestionId': '12345', 'Question': 'Is Kubernetes any good?', 'Answers': 4}, {'QuestionId': '23456', 'Question': 'Kubernetes Security Help', 'Answers': 2}, {'QuestionId': '34567', 'Question': 'Port Allocation not working', 'Answers': 1}]\n",
      "\n",
      " DF1:\n",
      "  QuestionId                 Question  Answers\n",
      "0      12345  Bad kubernetes question        1\n",
      "\n",
      " DF2:\n",
      "  QuestionId                     Question  Answers\n",
      "0      12345      Is Kubernetes any good?        4\n",
      "1      23456     Kubernetes Security Help        2\n",
      "2      34567  Port Allocation not working        1\n",
      "\n",
      " Merged DF:\n",
      "  QuestionId                     Question  Answers\n",
      "0      12345      Is Kubernetes any good?        4\n",
      "1      23456     Kubernetes Security Help        2\n",
      "2      34567  Port Allocation not working        1\n"
     ]
    }
   ],
   "source": [
    "# Imagine fetching existing data somehow\n",
    "# df1 Represents \"old\" or \"existing\" data\n",
    "# Load it into a DataFrame\n",
    "df1 = pd.DataFrame([{\"QuestionId\": \"12345\", \"Question\": \"Bad kubernetes question\", \"Answers\": 1}])\n",
    "df1.set_index(\"QuestionId\")\n",
    "\n",
    "# Collecting new data by getting it entry (row) by entry\n",
    "s1 = []\n",
    "for i in range(3):\n",
    "    v = globals()[f\"data{i+1}\"]\n",
    "    s1.append(v)\n",
    "\n",
    "print(\"An array of rows:\")\n",
    "print(s1)\n",
    "\n",
    "# New Data is now a DataFrame\n",
    "# Now Add this 2D Array into the DataFrame because everything in Pandas needs to be a DataFrame\n",
    "df2 = pd.DataFrame(s1)\n",
    "df2.set_index(\"QuestionId\")\n",
    "\n",
    "\n",
    "# Print out old and new dataframes to visualize the merge\n",
    "print(\"\\n\", \"DF1:\")\n",
    "print(df1)\n",
    "\n",
    "print(\"\\n\", \"DF2:\")\n",
    "print(df2)\n",
    "\n",
    "# Merge the two DataFrames\n",
    "# Note: Preference is given to the \"new\" DataFrame by listing it first in the merge func\n",
    "print(\"\\n\", \"Merged DF:\")\n",
    "df0 = pd.merge(df2, df1, how=\"outer\")\n",
    "df0.drop_duplicates(subset=[\"QuestionId\"], inplace=True)\n",
    "df0.set_index(\"QuestionId\")\n",
    "print(df0)\n",
    "df0.to_csv('~/Desktop/kubernetes.csv')"
   ]
  },
  {
   "cell_type": "code",
   "execution_count": null,
   "id": "f7be24df-1e76-4b29-a3d2-8929288afd02",
   "metadata": {},
   "outputs": [],
   "source": []
  }
 ],
 "metadata": {
  "kernelspec": {
   "display_name": "k8s-scrape",
   "language": "python",
   "name": "k8s-scrape"
  },
  "language_info": {
   "codemirror_mode": {
    "name": "ipython",
    "version": 3
   },
   "file_extension": ".py",
   "mimetype": "text/x-python",
   "name": "python",
   "nbconvert_exporter": "python",
   "pygments_lexer": "ipython3",
   "version": "3.10.12"
  }
 },
 "nbformat": 4,
 "nbformat_minor": 5
}
